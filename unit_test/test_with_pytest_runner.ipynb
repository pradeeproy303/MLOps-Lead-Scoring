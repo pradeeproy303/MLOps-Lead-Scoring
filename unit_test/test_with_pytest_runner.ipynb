{
 "cells": [
  {
   "cell_type": "code",
   "execution_count": 1,
   "id": "6be5f822-2bce-484e-acff-1026bc325146",
   "metadata": {},
   "outputs": [],
   "source": [
    "from utils import *\n",
    "from test_with_pytest import *"
   ]
  },
  {
   "cell_type": "code",
   "execution_count": 2,
   "id": "a35eeed5-253d-4472-b9d2-2f1b33c42a36",
   "metadata": {},
   "outputs": [
    {
     "name": "stdout",
     "output_type": "stream",
     "text": [
      "loaded_data_test_case\n"
     ]
    }
   ],
   "source": [
    "test_load_data_into_db()"
   ]
  },
  {
   "cell_type": "code",
   "execution_count": 3,
   "id": "9d8e3305-c025-468b-ba94-959e6b2f7853",
   "metadata": {},
   "outputs": [
    {
     "name": "stdout",
     "output_type": "stream",
     "text": [
      "city_tier_mapped_test_case\n"
     ]
    }
   ],
   "source": [
    "test_map_city_tier()"
   ]
  },
  {
   "cell_type": "code",
   "execution_count": 4,
   "id": "2f8e3b51-b0c4-4909-ae22-0fa80dc67957",
   "metadata": {},
   "outputs": [
    {
     "name": "stdout",
     "output_type": "stream",
     "text": [
      "categorical_variables_mapped_test_case\n"
     ]
    },
    {
     "name": "stderr",
     "output_type": "stream",
     "text": [
      "/home/Assignment/data_pipeline/scripts/unit_test/utils.py:185: SettingWithCopyWarning: \n",
      "A value is trying to be set on a copy of a slice from a DataFrame.\n",
      "Try using .loc[row_indexer,col_indexer] = value instead\n",
      "\n",
      "See the caveats in the documentation: https://pandas.pydata.org/pandas-docs/stable/user_guide/indexing.html#returning-a-view-versus-a-copy\n",
      "  new_df['first_platform_c'] = \"others\" # replace the value of these levels to others\n",
      "/home/Assignment/data_pipeline/scripts/unit_test/utils.py:190: SettingWithCopyWarning: \n",
      "A value is trying to be set on a copy of a slice from a DataFrame.\n",
      "Try using .loc[row_indexer,col_indexer] = value instead\n",
      "\n",
      "See the caveats in the documentation: https://pandas.pydata.org/pandas-docs/stable/user_guide/indexing.html#returning-a-view-versus-a-copy\n",
      "  new_df['first_utm_medium_c'] = \"others\" # replace the value of these levels to others\n",
      "/home/Assignment/data_pipeline/scripts/unit_test/utils.py:195: SettingWithCopyWarning: \n",
      "A value is trying to be set on a copy of a slice from a DataFrame.\n",
      "Try using .loc[row_indexer,col_indexer] = value instead\n",
      "\n",
      "See the caveats in the documentation: https://pandas.pydata.org/pandas-docs/stable/user_guide/indexing.html#returning-a-view-versus-a-copy\n",
      "  new_df['first_utm_source_c'] = \"others\" # replace the value of these levels to others\n"
     ]
    }
   ],
   "source": [
    "test_map_categorical_vars()"
   ]
  },
  {
   "cell_type": "code",
   "execution_count": 5,
   "id": "b4430841-8c43-48b4-baa7-107708a86e2a",
   "metadata": {},
   "outputs": [
    {
     "name": "stdout",
     "output_type": "stream",
     "text": [
      "interactions_mapped_test_case\n"
     ]
    }
   ],
   "source": [
    "test_interactions_mapping()"
   ]
  }
 ],
 "metadata": {
  "kernelspec": {
   "display_name": "Python 3 (ipykernel)",
   "language": "python",
   "name": "python3"
  },
  "language_info": {
   "codemirror_mode": {
    "name": "ipython",
    "version": 3
   },
   "file_extension": ".py",
   "mimetype": "text/x-python",
   "name": "python",
   "nbconvert_exporter": "python",
   "pygments_lexer": "ipython3",
   "version": "3.8.12"
  }
 },
 "nbformat": 4,
 "nbformat_minor": 5
}
